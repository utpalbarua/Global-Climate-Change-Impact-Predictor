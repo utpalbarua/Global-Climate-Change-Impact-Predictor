{
 "cells": [
  {
   "cell_type": "code",
   "execution_count": null,
   "id": "d93e17b1-4d17-431f-bd86-3467eeca27e2",
   "metadata": {},
   "outputs": [],
   "source": [
    "import streamlit as st\n",
    "import joblib\n",
    "import numpy as np\n",
    "\n",
    "# Load models\n",
    "model1 = joblib.load('xgboost_model1.pkl')\n",
    "model2 = joblib.load('xgboost_model2.pkl')\n",
    "\n",
    "# Streamlit app title\n",
    "st.title(\"XGBoost Model Deployment\")\n",
    "\n",
    "# Sidebar for input features\n",
    "st.sidebar.header(\"Input Features\")\n",
    "feature1 = st.sidebar.number_input(\"Feature 1\", value=0.0)\n",
    "feature2 = st.sidebar.number_input(\"Feature 2\", value=0.0)\n",
    "feature3 = st.sidebar.number_input(\"Feature 3\", value=0.0)\n",
    "feature4 = st.sidebar.number_input(\"Feature 4\", value=0.0)\n",
    "feature5 = st.sidebar.number_input(\"Feature 5\", value=0.0)\n",
    "feature6 = st.sidebar.number_input(\"Feature 6\", value=0.0)\n",
    "\n",
    "# Convert input to array\n",
    "features = np.array([[feature1, feature2, feature3, feature4, feature5, feature6]])\n",
    "\n",
    "# Predict button\n",
    "if st.button(\"Predict\"):\n",
    "    prediction1 = model1.predict(features)[0]\n",
    "    prediction2 = model2.predict(features)[0]\n",
    "    \n",
    "    # Display results\n",
    "    col1, col2 = st.columns(2)\n",
    "    with col1:\n",
    "        st.subheader(\"Model 1 Prediction\")\n",
    "        st.write(f\"### {prediction1}\")\n",
    "\n",
    "    with col2:\n",
    "        st.subheader(\"Model 2 Prediction\")\n",
    "        st.write(f\"### {prediction2}\")\n"
   ]
  }
 ],
 "metadata": {
  "kernelspec": {
   "display_name": "Python 3 (ipykernel)",
   "language": "python",
   "name": "python3"
  },
  "language_info": {
   "codemirror_mode": {
    "name": "ipython",
    "version": 3
   },
   "file_extension": ".py",
   "mimetype": "text/x-python",
   "name": "python",
   "nbconvert_exporter": "python",
   "pygments_lexer": "ipython3",
   "version": "3.12.4"
  }
 },
 "nbformat": 4,
 "nbformat_minor": 5
}
